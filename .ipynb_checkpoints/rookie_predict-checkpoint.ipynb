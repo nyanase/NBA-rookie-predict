{
 "cells": [
  {
   "cell_type": "markdown",
   "metadata": {},
   "source": [
    "# NBA Rookie Season as a Predictor for Success"
   ]
  },
  {
   "cell_type": "code",
   "execution_count": 1,
   "metadata": {},
   "outputs": [],
   "source": [
    "#Note: to speed up webscraping process, I only collected data from players who have played at least 3 years in the NBA"
   ]
  },
  {
   "cell_type": "code",
   "execution_count": 2,
   "metadata": {},
   "outputs": [],
   "source": [
    "import numpy as np\n",
    "import pandas as pd"
   ]
  },
  {
   "cell_type": "code",
   "execution_count": 3,
   "metadata": {},
   "outputs": [],
   "source": [
    "raw = pd.read_csv('players.csv')\n",
    "X_data = raw"
   ]
  },
  {
   "cell_type": "code",
   "execution_count": 4,
   "metadata": {},
   "outputs": [
    {
     "name": "stdout",
     "output_type": "stream",
     "text": [
      "<class 'pandas.core.frame.DataFrame'>\n",
      "RangeIndex: 1237 entries, 0 to 1236\n",
      "Data columns (total 32 columns):\n",
      " #   Column  Non-Null Count  Dtype  \n",
      "---  ------  --------------  -----  \n",
      " 0   Name    1237 non-null   object \n",
      " 1   Season  1233 non-null   object \n",
      " 2   Age     1237 non-null   object \n",
      " 3   Team    1237 non-null   object \n",
      " 4   Lg      1237 non-null   object \n",
      " 5   Pos     1237 non-null   object \n",
      " 6   G       1233 non-null   float64\n",
      " 7   GS      1233 non-null   float64\n",
      " 8   MP      1233 non-null   float64\n",
      " 9   FG      1233 non-null   float64\n",
      " 10  FGA     1233 non-null   float64\n",
      " 11  FG%     1228 non-null   float64\n",
      " 12  3P      1233 non-null   float64\n",
      " 13  3PA     1233 non-null   float64\n",
      " 14  3P%     1023 non-null   float64\n",
      " 15  2P      1233 non-null   float64\n",
      " 16  2PA     1233 non-null   float64\n",
      " 17  2P%     1228 non-null   float64\n",
      " 18  eFG%    1228 non-null   float64\n",
      " 19  FT      1233 non-null   float64\n",
      " 20  FTA     1233 non-null   float64\n",
      " 21  FT%     1198 non-null   float64\n",
      " 22  ORB     1233 non-null   float64\n",
      " 23  DRB     1233 non-null   float64\n",
      " 24  TRB     1233 non-null   float64\n",
      " 25  AST     1233 non-null   float64\n",
      " 26  STL     1233 non-null   float64\n",
      " 27  BLK     1233 non-null   float64\n",
      " 28  TOV     1233 non-null   float64\n",
      " 29  PF      1233 non-null   float64\n",
      " 30  PTS     1233 non-null   float64\n",
      " 31  AS      1233 non-null   object \n",
      "dtypes: float64(25), object(7)\n",
      "memory usage: 309.4+ KB\n",
      "None\n",
      "['PF' 'PG' 'SG' 'C' 'SF' 'SG-PG' 'PG-SG' 'SF-SG' 'True' 'PF-C' 'SG-SF'\n",
      " 'SF-PF' 'False']\n"
     ]
    }
   ],
   "source": [
    "print(X_data.info())\n",
    "print(X_data.Pos.unique())"
   ]
  },
  {
   "cell_type": "markdown",
   "metadata": {},
   "source": [
    "## Cleaning"
   ]
  },
  {
   "cell_type": "code",
   "execution_count": 5,
   "metadata": {},
   "outputs": [
    {
     "data": {
      "text/plain": [
       "Index(['Name', 'Season', 'Age', 'Team', 'Lg', 'Pos', 'G', 'GS', 'MP', 'FG',\n",
       "       'FGA', 'FG%', '3P', '3PA', '3P%', '2P', '2PA', '2P%', 'eFG%', 'FT',\n",
       "       'FTA', 'FT%', 'ORB', 'DRB', 'TRB', 'AST', 'STL', 'BLK', 'TOV', 'PF',\n",
       "       'PTS', 'AS'],\n",
       "      dtype='object')"
      ]
     },
     "execution_count": 5,
     "metadata": {},
     "output_type": "execute_result"
    }
   ],
   "source": [
    "X_data.columns"
   ]
  },
  {
   "cell_type": "code",
   "execution_count": 6,
   "metadata": {},
   "outputs": [],
   "source": [
    "# We are confident that the following features are unncecessary \n",
    "drop_col = ['Name', 'Season', 'Team', 'Lg', 'FG%', '3P%', '2P%', 'FT%', 'PF']\n",
    "\n",
    "X_data.drop(drop_col, axis=1, inplace=True)\n",
    "X_data.dropna(inplace=True)\n",
    "X_data['Age'] = X_data['Age'].astype(int)\n",
    "\n",
    "X_data['RBD'] = X_data['ORB'] + X_data['DRB']\n",
    "X_data.drop(['ORB', 'DRB'], axis=1, inplace=True)"
   ]
  },
  {
   "cell_type": "code",
   "execution_count": 7,
   "metadata": {},
   "outputs": [
    {
     "data": {
      "text/plain": [
       "PF       271\n",
       "PG       255\n",
       "SG       241\n",
       "SF       227\n",
       "C        225\n",
       "SG-SF      2\n",
       "PF-C       2\n",
       "PG-SG      2\n",
       "SG-PG      1\n",
       "SF-PF      1\n",
       "SF-SG      1\n",
       "Name: Pos, dtype: int64"
      ]
     },
     "execution_count": 7,
     "metadata": {},
     "output_type": "execute_result"
    }
   ],
   "source": [
    "X_data['Pos'].value_counts()"
   ]
  },
  {
   "cell_type": "code",
   "execution_count": 8,
   "metadata": {},
   "outputs": [
    {
     "name": "stdout",
     "output_type": "stream",
     "text": [
      "<class 'pandas.core.frame.DataFrame'>\n",
      "Int64Index: 1228 entries, 0 to 1236\n",
      "Data columns (total 22 columns):\n",
      " #   Column  Non-Null Count  Dtype  \n",
      "---  ------  --------------  -----  \n",
      " 0   Age     1228 non-null   int64  \n",
      " 1   Pos     1228 non-null   object \n",
      " 2   G       1228 non-null   float64\n",
      " 3   GS      1228 non-null   float64\n",
      " 4   MP      1228 non-null   float64\n",
      " 5   FG      1228 non-null   float64\n",
      " 6   FGA     1228 non-null   float64\n",
      " 7   3P      1228 non-null   float64\n",
      " 8   3PA     1228 non-null   float64\n",
      " 9   2P      1228 non-null   float64\n",
      " 10  2PA     1228 non-null   float64\n",
      " 11  eFG%    1228 non-null   float64\n",
      " 12  FT      1228 non-null   float64\n",
      " 13  FTA     1228 non-null   float64\n",
      " 14  TRB     1228 non-null   float64\n",
      " 15  AST     1228 non-null   float64\n",
      " 16  STL     1228 non-null   float64\n",
      " 17  BLK     1228 non-null   float64\n",
      " 18  TOV     1228 non-null   float64\n",
      " 19  PTS     1228 non-null   float64\n",
      " 20  AS      1228 non-null   object \n",
      " 21  RBD     1228 non-null   float64\n",
      "dtypes: float64(19), int64(1), object(2)\n",
      "memory usage: 220.7+ KB\n"
     ]
    }
   ],
   "source": [
    "X_data.info()"
   ]
  },
  {
   "cell_type": "code",
   "execution_count": 9,
   "metadata": {},
   "outputs": [
    {
     "name": "stderr",
     "output_type": "stream",
     "text": [
      "/Users/naoyanase/opt/anaconda3/lib/python3.7/site-packages/pandas/core/indexing.py:670: SettingWithCopyWarning: \n",
      "A value is trying to be set on a copy of a slice from a DataFrame\n",
      "\n",
      "See the caveats in the documentation: https://pandas.pydata.org/pandas-docs/stable/user_guide/indexing.html#returning-a-view-versus-a-copy\n",
      "  self._setitem_with_indexer(indexer, value)\n"
     ]
    }
   ],
   "source": [
    "X_data['Pos'].loc[X_data['Pos'] == 'PF-C'] = 'PF'\n",
    "X_data['Pos'].loc[X_data['Pos'] == 'PG-SG'] = 'PG'\n",
    "X_data['Pos'].loc[X_data['Pos'] == 'SG-SF'] = 'SG'\n",
    "X_data['Pos'].loc[X_data['Pos'] == 'SG-PG'] = 'SG'\n",
    "X_data['Pos'].loc[X_data['Pos'] == 'SF-SG'] = 'SF'\n",
    "X_data['Pos'].loc[X_data['Pos'] == 'SF-PF'] = 'SF'"
   ]
  },
  {
   "cell_type": "code",
   "execution_count": 10,
   "metadata": {},
   "outputs": [
    {
     "name": "stdout",
     "output_type": "stream",
     "text": [
      "<class 'pandas.core.frame.DataFrame'>\n",
      "Int64Index: 1228 entries, 0 to 1236\n",
      "Data columns (total 22 columns):\n",
      " #   Column  Non-Null Count  Dtype  \n",
      "---  ------  --------------  -----  \n",
      " 0   Age     1228 non-null   int64  \n",
      " 1   Pos     1228 non-null   object \n",
      " 2   G       1228 non-null   float64\n",
      " 3   GS      1228 non-null   float64\n",
      " 4   MP      1228 non-null   float64\n",
      " 5   FG      1228 non-null   float64\n",
      " 6   FGA     1228 non-null   float64\n",
      " 7   3P      1228 non-null   float64\n",
      " 8   3PA     1228 non-null   float64\n",
      " 9   2P      1228 non-null   float64\n",
      " 10  2PA     1228 non-null   float64\n",
      " 11  eFG%    1228 non-null   float64\n",
      " 12  FT      1228 non-null   float64\n",
      " 13  FTA     1228 non-null   float64\n",
      " 14  TRB     1228 non-null   float64\n",
      " 15  AST     1228 non-null   float64\n",
      " 16  STL     1228 non-null   float64\n",
      " 17  BLK     1228 non-null   float64\n",
      " 18  TOV     1228 non-null   float64\n",
      " 19  PTS     1228 non-null   float64\n",
      " 20  AS      1228 non-null   object \n",
      " 21  RBD     1228 non-null   float64\n",
      "dtypes: float64(19), int64(1), object(2)\n",
      "memory usage: 220.7+ KB\n"
     ]
    }
   ],
   "source": [
    "X_data.info()"
   ]
  },
  {
   "cell_type": "code",
   "execution_count": 11,
   "metadata": {},
   "outputs": [
    {
     "data": {
      "text/plain": [
       "Index(['Age', 'Pos', 'G', 'GS', 'MP', 'FG', 'FGA', '3P', '3PA', '2P', '2PA',\n",
       "       'eFG%', 'FT', 'FTA', 'TRB', 'AST', 'STL', 'BLK', 'TOV', 'PTS', 'AS',\n",
       "       'RBD'],\n",
       "      dtype='object')"
      ]
     },
     "execution_count": 11,
     "metadata": {},
     "output_type": "execute_result"
    }
   ],
   "source": [
    "X_data.columns"
   ]
  },
  {
   "cell_type": "code",
   "execution_count": 12,
   "metadata": {},
   "outputs": [],
   "source": [
    "y_data = X_data['AS']\n",
    "X_data = X_data.drop(['AS'], axis=1)"
   ]
  },
  {
   "cell_type": "code",
   "execution_count": 13,
   "metadata": {},
   "outputs": [
    {
     "data": {
      "text/html": [
       "<div>\n",
       "<style scoped>\n",
       "    .dataframe tbody tr th:only-of-type {\n",
       "        vertical-align: middle;\n",
       "    }\n",
       "\n",
       "    .dataframe tbody tr th {\n",
       "        vertical-align: top;\n",
       "    }\n",
       "\n",
       "    .dataframe thead th {\n",
       "        text-align: right;\n",
       "    }\n",
       "</style>\n",
       "<table border=\"1\" class=\"dataframe\">\n",
       "  <thead>\n",
       "    <tr style=\"text-align: right;\">\n",
       "      <th></th>\n",
       "      <th>Age</th>\n",
       "      <th>Pos</th>\n",
       "      <th>G</th>\n",
       "      <th>GS</th>\n",
       "      <th>MP</th>\n",
       "      <th>FG</th>\n",
       "      <th>FGA</th>\n",
       "      <th>3P</th>\n",
       "      <th>3PA</th>\n",
       "      <th>2P</th>\n",
       "      <th>...</th>\n",
       "      <th>eFG%</th>\n",
       "      <th>FT</th>\n",
       "      <th>FTA</th>\n",
       "      <th>TRB</th>\n",
       "      <th>AST</th>\n",
       "      <th>STL</th>\n",
       "      <th>BLK</th>\n",
       "      <th>TOV</th>\n",
       "      <th>PTS</th>\n",
       "      <th>RBD</th>\n",
       "    </tr>\n",
       "  </thead>\n",
       "  <tbody>\n",
       "    <tr>\n",
       "      <th>0</th>\n",
       "      <td>22</td>\n",
       "      <td>PF</td>\n",
       "      <td>43.0</td>\n",
       "      <td>0.0</td>\n",
       "      <td>6.7</td>\n",
       "      <td>1.3</td>\n",
       "      <td>2.7</td>\n",
       "      <td>0.0</td>\n",
       "      <td>0.0</td>\n",
       "      <td>1.3</td>\n",
       "      <td>...</td>\n",
       "      <td>0.474</td>\n",
       "      <td>0.6</td>\n",
       "      <td>1.0</td>\n",
       "      <td>2.1</td>\n",
       "      <td>0.3</td>\n",
       "      <td>0.1</td>\n",
       "      <td>0.3</td>\n",
       "      <td>0.5</td>\n",
       "      <td>3.1</td>\n",
       "      <td>2.0</td>\n",
       "    </tr>\n",
       "    <tr>\n",
       "      <th>1</th>\n",
       "      <td>21</td>\n",
       "      <td>PG</td>\n",
       "      <td>67.0</td>\n",
       "      <td>19.0</td>\n",
       "      <td>22.5</td>\n",
       "      <td>6.2</td>\n",
       "      <td>15.1</td>\n",
       "      <td>0.4</td>\n",
       "      <td>1.5</td>\n",
       "      <td>5.9</td>\n",
       "      <td>...</td>\n",
       "      <td>0.425</td>\n",
       "      <td>1.3</td>\n",
       "      <td>1.5</td>\n",
       "      <td>1.8</td>\n",
       "      <td>3.1</td>\n",
       "      <td>0.8</td>\n",
       "      <td>0.1</td>\n",
       "      <td>1.6</td>\n",
       "      <td>14.1</td>\n",
       "      <td>1.8</td>\n",
       "    </tr>\n",
       "    <tr>\n",
       "      <th>2</th>\n",
       "      <td>23</td>\n",
       "      <td>SG</td>\n",
       "      <td>59.0</td>\n",
       "      <td>16.0</td>\n",
       "      <td>16.3</td>\n",
       "      <td>2.4</td>\n",
       "      <td>6.1</td>\n",
       "      <td>0.1</td>\n",
       "      <td>0.3</td>\n",
       "      <td>2.4</td>\n",
       "      <td>...</td>\n",
       "      <td>0.409</td>\n",
       "      <td>1.4</td>\n",
       "      <td>2.1</td>\n",
       "      <td>2.0</td>\n",
       "      <td>0.9</td>\n",
       "      <td>0.6</td>\n",
       "      <td>0.2</td>\n",
       "      <td>1.1</td>\n",
       "      <td>6.4</td>\n",
       "      <td>1.9</td>\n",
       "    </tr>\n",
       "    <tr>\n",
       "      <th>3</th>\n",
       "      <td>20</td>\n",
       "      <td>PF</td>\n",
       "      <td>80.0</td>\n",
       "      <td>71.0</td>\n",
       "      <td>35.0</td>\n",
       "      <td>6.9</td>\n",
       "      <td>15.2</td>\n",
       "      <td>0.1</td>\n",
       "      <td>0.3</td>\n",
       "      <td>6.8</td>\n",
       "      <td>...</td>\n",
       "      <td>0.456</td>\n",
       "      <td>4.8</td>\n",
       "      <td>6.5</td>\n",
       "      <td>6.9</td>\n",
       "      <td>2.2</td>\n",
       "      <td>1.0</td>\n",
       "      <td>1.0</td>\n",
       "      <td>2.8</td>\n",
       "      <td>18.7</td>\n",
       "      <td>6.9</td>\n",
       "    </tr>\n",
       "    <tr>\n",
       "      <th>4</th>\n",
       "      <td>23</td>\n",
       "      <td>SG</td>\n",
       "      <td>5.0</td>\n",
       "      <td>0.0</td>\n",
       "      <td>7.0</td>\n",
       "      <td>0.8</td>\n",
       "      <td>3.2</td>\n",
       "      <td>0.2</td>\n",
       "      <td>1.0</td>\n",
       "      <td>0.6</td>\n",
       "      <td>...</td>\n",
       "      <td>0.281</td>\n",
       "      <td>0.0</td>\n",
       "      <td>0.0</td>\n",
       "      <td>1.0</td>\n",
       "      <td>0.8</td>\n",
       "      <td>0.2</td>\n",
       "      <td>0.0</td>\n",
       "      <td>0.8</td>\n",
       "      <td>1.8</td>\n",
       "      <td>1.0</td>\n",
       "    </tr>\n",
       "    <tr>\n",
       "      <th>...</th>\n",
       "      <td>...</td>\n",
       "      <td>...</td>\n",
       "      <td>...</td>\n",
       "      <td>...</td>\n",
       "      <td>...</td>\n",
       "      <td>...</td>\n",
       "      <td>...</td>\n",
       "      <td>...</td>\n",
       "      <td>...</td>\n",
       "      <td>...</td>\n",
       "      <td>...</td>\n",
       "      <td>...</td>\n",
       "      <td>...</td>\n",
       "      <td>...</td>\n",
       "      <td>...</td>\n",
       "      <td>...</td>\n",
       "      <td>...</td>\n",
       "      <td>...</td>\n",
       "      <td>...</td>\n",
       "      <td>...</td>\n",
       "      <td>...</td>\n",
       "    </tr>\n",
       "    <tr>\n",
       "      <th>1232</th>\n",
       "      <td>19</td>\n",
       "      <td>PF</td>\n",
       "      <td>74.0</td>\n",
       "      <td>22.0</td>\n",
       "      <td>21.0</td>\n",
       "      <td>3.6</td>\n",
       "      <td>6.6</td>\n",
       "      <td>0.1</td>\n",
       "      <td>0.3</td>\n",
       "      <td>3.5</td>\n",
       "      <td>...</td>\n",
       "      <td>0.545</td>\n",
       "      <td>1.0</td>\n",
       "      <td>1.4</td>\n",
       "      <td>4.2</td>\n",
       "      <td>0.8</td>\n",
       "      <td>1.0</td>\n",
       "      <td>0.1</td>\n",
       "      <td>0.9</td>\n",
       "      <td>8.2</td>\n",
       "      <td>4.2</td>\n",
       "    </tr>\n",
       "    <tr>\n",
       "      <th>1233</th>\n",
       "      <td>21</td>\n",
       "      <td>C</td>\n",
       "      <td>82.0</td>\n",
       "      <td>3.0</td>\n",
       "      <td>17.3</td>\n",
       "      <td>2.1</td>\n",
       "      <td>4.9</td>\n",
       "      <td>0.0</td>\n",
       "      <td>0.0</td>\n",
       "      <td>2.1</td>\n",
       "      <td>...</td>\n",
       "      <td>0.426</td>\n",
       "      <td>1.8</td>\n",
       "      <td>2.4</td>\n",
       "      <td>4.3</td>\n",
       "      <td>1.1</td>\n",
       "      <td>0.5</td>\n",
       "      <td>0.5</td>\n",
       "      <td>1.1</td>\n",
       "      <td>6.0</td>\n",
       "      <td>4.3</td>\n",
       "    </tr>\n",
       "    <tr>\n",
       "      <th>1234</th>\n",
       "      <td>23</td>\n",
       "      <td>C</td>\n",
       "      <td>77.0</td>\n",
       "      <td>55.0</td>\n",
       "      <td>26.4</td>\n",
       "      <td>3.2</td>\n",
       "      <td>7.3</td>\n",
       "      <td>0.0</td>\n",
       "      <td>0.1</td>\n",
       "      <td>3.2</td>\n",
       "      <td>...</td>\n",
       "      <td>0.438</td>\n",
       "      <td>1.6</td>\n",
       "      <td>2.0</td>\n",
       "      <td>5.7</td>\n",
       "      <td>1.2</td>\n",
       "      <td>0.5</td>\n",
       "      <td>0.9</td>\n",
       "      <td>1.2</td>\n",
       "      <td>7.9</td>\n",
       "      <td>5.7</td>\n",
       "    </tr>\n",
       "    <tr>\n",
       "      <th>1235</th>\n",
       "      <td>23</td>\n",
       "      <td>C</td>\n",
       "      <td>5.0</td>\n",
       "      <td>0.0</td>\n",
       "      <td>7.6</td>\n",
       "      <td>1.6</td>\n",
       "      <td>3.8</td>\n",
       "      <td>0.0</td>\n",
       "      <td>0.4</td>\n",
       "      <td>1.6</td>\n",
       "      <td>...</td>\n",
       "      <td>0.421</td>\n",
       "      <td>1.6</td>\n",
       "      <td>2.0</td>\n",
       "      <td>1.4</td>\n",
       "      <td>0.0</td>\n",
       "      <td>0.0</td>\n",
       "      <td>0.0</td>\n",
       "      <td>0.2</td>\n",
       "      <td>4.8</td>\n",
       "      <td>1.4</td>\n",
       "    </tr>\n",
       "    <tr>\n",
       "      <th>1236</th>\n",
       "      <td>19</td>\n",
       "      <td>C</td>\n",
       "      <td>38.0</td>\n",
       "      <td>11.0</td>\n",
       "      <td>16.0</td>\n",
       "      <td>3.3</td>\n",
       "      <td>6.3</td>\n",
       "      <td>0.0</td>\n",
       "      <td>0.1</td>\n",
       "      <td>3.3</td>\n",
       "      <td>...</td>\n",
       "      <td>0.529</td>\n",
       "      <td>0.8</td>\n",
       "      <td>1.3</td>\n",
       "      <td>4.2</td>\n",
       "      <td>0.8</td>\n",
       "      <td>0.4</td>\n",
       "      <td>0.9</td>\n",
       "      <td>0.8</td>\n",
       "      <td>7.5</td>\n",
       "      <td>4.2</td>\n",
       "    </tr>\n",
       "  </tbody>\n",
       "</table>\n",
       "<p>1228 rows × 21 columns</p>\n",
       "</div>"
      ],
      "text/plain": [
       "      Age Pos     G    GS    MP   FG   FGA   3P  3PA   2P  ...   eFG%   FT  \\\n",
       "0      22  PF  43.0   0.0   6.7  1.3   2.7  0.0  0.0  1.3  ...  0.474  0.6   \n",
       "1      21  PG  67.0  19.0  22.5  6.2  15.1  0.4  1.5  5.9  ...  0.425  1.3   \n",
       "2      23  SG  59.0  16.0  16.3  2.4   6.1  0.1  0.3  2.4  ...  0.409  1.4   \n",
       "3      20  PF  80.0  71.0  35.0  6.9  15.2  0.1  0.3  6.8  ...  0.456  4.8   \n",
       "4      23  SG   5.0   0.0   7.0  0.8   3.2  0.2  1.0  0.6  ...  0.281  0.0   \n",
       "...   ...  ..   ...   ...   ...  ...   ...  ...  ...  ...  ...    ...  ...   \n",
       "1232   19  PF  74.0  22.0  21.0  3.6   6.6  0.1  0.3  3.5  ...  0.545  1.0   \n",
       "1233   21   C  82.0   3.0  17.3  2.1   4.9  0.0  0.0  2.1  ...  0.426  1.8   \n",
       "1234   23   C  77.0  55.0  26.4  3.2   7.3  0.0  0.1  3.2  ...  0.438  1.6   \n",
       "1235   23   C   5.0   0.0   7.6  1.6   3.8  0.0  0.4  1.6  ...  0.421  1.6   \n",
       "1236   19   C  38.0  11.0  16.0  3.3   6.3  0.0  0.1  3.3  ...  0.529  0.8   \n",
       "\n",
       "      FTA  TRB  AST  STL  BLK  TOV   PTS  RBD  \n",
       "0     1.0  2.1  0.3  0.1  0.3  0.5   3.1  2.0  \n",
       "1     1.5  1.8  3.1  0.8  0.1  1.6  14.1  1.8  \n",
       "2     2.1  2.0  0.9  0.6  0.2  1.1   6.4  1.9  \n",
       "3     6.5  6.9  2.2  1.0  1.0  2.8  18.7  6.9  \n",
       "4     0.0  1.0  0.8  0.2  0.0  0.8   1.8  1.0  \n",
       "...   ...  ...  ...  ...  ...  ...   ...  ...  \n",
       "1232  1.4  4.2  0.8  1.0  0.1  0.9   8.2  4.2  \n",
       "1233  2.4  4.3  1.1  0.5  0.5  1.1   6.0  4.3  \n",
       "1234  2.0  5.7  1.2  0.5  0.9  1.2   7.9  5.7  \n",
       "1235  2.0  1.4  0.0  0.0  0.0  0.2   4.8  1.4  \n",
       "1236  1.3  4.2  0.8  0.4  0.9  0.8   7.5  4.2  \n",
       "\n",
       "[1228 rows x 21 columns]"
      ]
     },
     "execution_count": 13,
     "metadata": {},
     "output_type": "execute_result"
    }
   ],
   "source": [
    "X_data"
   ]
  },
  {
   "cell_type": "markdown",
   "metadata": {},
   "source": [
    "## Data Visualization"
   ]
  },
  {
   "cell_type": "code",
   "execution_count": 14,
   "metadata": {},
   "outputs": [],
   "source": [
    "import matplotlib.pyplot as plt\n",
    "import seaborn as sns"
   ]
  },
  {
   "cell_type": "code",
   "execution_count": 15,
   "metadata": {},
   "outputs": [
    {
     "data": {
      "text/plain": [
       "(1228, 21)"
      ]
     },
     "execution_count": 15,
     "metadata": {},
     "output_type": "execute_result"
    }
   ],
   "source": [
    "X_data.shape"
   ]
  },
  {
   "cell_type": "code",
   "execution_count": 16,
   "metadata": {},
   "outputs": [],
   "source": [
    "as_data = X_data.loc[y_data.index[y_data == True]]\n",
    "nas_data = X_data.loc[y_data.index[y_data == False]]"
   ]
  },
  {
   "cell_type": "code",
   "execution_count": 17,
   "metadata": {},
   "outputs": [
    {
     "name": "stdout",
     "output_type": "stream",
     "text": [
      "All-stars: 158\n",
      "Not all-stars: 1070\n"
     ]
    },
    {
     "data": {
      "text/plain": [
       "<BarContainer object of 2 artists>"
      ]
     },
     "execution_count": 17,
     "metadata": {},
     "output_type": "execute_result"
    },
    {
     "data": {
      "image/png": "[encoded data removed]",
      "text/plain": [
       "<Figure size 432x288 with 1 Axes>"
      ]
     },
     "metadata": {
      "needs_background": "light"
     },
     "output_type": "display_data"
    }
   ],
   "source": [
    "num_allstar = y_data[y_data == True].sum()\n",
    "num_not_allstar = len(y_data[y_data == False])\n",
    "print('All-stars:', num_allstar)\n",
    "print('Not all-stars:', num_not_allstar)\n",
    "plt.bar(['All-star', 'Not all-star'], [num_allstar, num_not_allstar])"
   ]
  },
  {
   "cell_type": "markdown",
   "metadata": {},
   "source": [
    "### Games Played"
   ]
  },
  {
   "cell_type": "code",
   "execution_count": 18,
   "metadata": {},
   "outputs": [
    {
     "name": "stdout",
     "output_type": "stream",
     "text": [
      "count    1228.000000\n",
      "mean       51.258143\n",
      "std        24.863624\n",
      "min         1.000000\n",
      "25%        31.000000\n",
      "50%        56.000000\n",
      "75%        74.250000\n",
      "max        82.000000\n",
      "Name: G, dtype: float64\n"
     ]
    },
    {
     "data": {
      "image/png": "[encoded data removed]",
      "text/plain": [
       "<Figure size 432x288 with 1 Axes>"
      ]
     },
     "metadata": {
      "needs_background": "light"
     },
     "output_type": "display_data"
    },
    {
     "data": {
      "image/png": "[encoded data removed]",
      "text/plain": [
       "<Figure size 720x360 with 2 Axes>"
      ]
     },
     "metadata": {
      "needs_background": "light"
     },
     "output_type": "display_data"
    },
    {
     "data": {
      "image/png": "[encoded data removed]",
      "text/plain": [
       "<Figure size 432x288 with 1 Axes>"
      ]
     },
     "metadata": {
      "needs_background": "light"
     },
     "output_type": "display_data"
    }
   ],
   "source": [
    "print(X_data['G'].describe())\n",
    "\n",
    "plt.hist(X_data['G'], 10, (0,85))\n",
    "plt.title('Rookies per Games Played')\n",
    "plt.xlabel('Games')\n",
    "plt.ylabel('Rookies')\n",
    "plt.show()\n",
    "\n",
    "fig, (ax1, ax2) = plt.subplots(1, 2, figsize=(10,5))\n",
    "ax1.hist(as_data['G'], 10)\n",
    "ax1.set_title('Distribution of Games for Future Rookie All-stars')\n",
    "ax1.set_xlabel('Games')\n",
    "ax1.set_ylabel('Number of Rookies')\n",
    "ax2.hist(nas_data['G'], 10)\n",
    "ax2.set_title('Distribution of Games for Non-future Rookie All-stars')\n",
    "ax2.set_xlabel('Games')\n",
    "ax2.set_ylabel('Number of Rookies')\n",
    "plt.show()\n",
    "\n",
    "# boxplot with outliers removed\n",
    "plt.boxplot([as_data['G'], nas_data['G']], showfliers=False, labels=['All-stars', 'Not All-Stars'])\n",
    "plt.title('Distribution of Games')\n",
    "plt.show()"
   ]
  },
  {
   "cell_type": "code",
   "execution_count": 19,
   "metadata": {},
   "outputs": [
    {
     "data": {
      "image/png": "[encoded data removed]",
      "text/plain": [
       "<Figure size 432x288 with 1 Axes>"
      ]
     },
     "metadata": {
      "needs_background": "light"
     },
     "output_type": "display_data"
    },
    {
     "data": {
      "image/png": "[encoded data removed]",
      "text/plain": [
       "<Figure size 432x288 with 1 Axes>"
      ]
     },
     "metadata": {
      "needs_background": "light"
     },
     "output_type": "display_data"
    }
   ],
   "source": [
    "g_num = [0, 20, 40, 60, 100]\n",
    "label = ['<20', '<40', '<60', '>60']\n",
    "\n",
    "as_g = []\n",
    "nas_g = []\n",
    "games_played = []\n",
    "for i in range(len(g_num)-1):\n",
    "    as_g.append(y_data[X_data.index[(X_data['G'] >= g_num[i]) & (X_data['G'] <  g_num[i + 1])].values][y_data == True].sum())\n",
    "    nas_g.append(len(y_data[X_data.index[(X_data['G'] >= g_num[i]) & (X_data['G'] < g_num[i + 1])].values][y_data == False]))\n",
    "\n",
    "tot_g = np.asarray(as_g) + np.asarray(nas_g)\n",
    "\n",
    "pct = np.asarray(as_g) / (np.asarray(nas_g) + np.asarray(as_g)) * 100\n",
    "\n",
    "plt.bar(label, pct)\n",
    "plt.ylim(0,100)\n",
    "plt.title(\"All stars per number of games played\")\n",
    "plt.ylabel(\"% all-stars\")\n",
    "plt.xlabel(\"Games played\")\n",
    "plt.show()\n",
    "\n",
    "bar1 = plt.bar(label, tot_g)\n",
    "bar2 = plt.bar(label, as_g)\n",
    "plt.title(\"Total Rookies and All-stars by Number of Games Played\")\n",
    "plt.ylabel(\"Total Players\")\n",
    "plt.xlabel(\"Games played\")\n",
    "plt.legend([bar1, bar2], [\"Total Rookies\", \"Total All-Stars\"])\n",
    "plt.show()"
   ]
  },
  {
   "cell_type": "markdown",
   "metadata": {},
   "source": [
    "### Age"
   ]
  },
  {
   "cell_type": "code",
   "execution_count": 20,
   "metadata": {},
   "outputs": [
    {
     "name": "stdout",
     "output_type": "stream",
     "text": [
      "count    1228.000000\n",
      "mean       22.118893\n",
      "std         1.838784\n",
      "min        18.000000\n",
      "25%        21.000000\n",
      "50%        22.000000\n",
      "75%        23.000000\n",
      "max        35.000000\n",
      "Name: Age, dtype: float64\n"
     ]
    },
    {
     "data": {
      "image/png": "[encoded data removed]",
      "text/plain": [
       "<Figure size 432x288 with 1 Axes>"
      ]
     },
     "metadata": {
      "needs_background": "light"
     },
     "output_type": "display_data"
    },
    {
     "data": {
      "image/png": "[encoded data removed]",
      "text/plain": [
       "<Figure size 720x360 with 2 Axes>"
      ]
     },
     "metadata": {
      "needs_background": "light"
     },
     "output_type": "display_data"
    },
    {
     "data": {
      "image/png": "[encoded data removed]",
      "text/plain": [
       "<Figure size 432x288 with 1 Axes>"
      ]
     },
     "metadata": {
      "needs_background": "light"
     },
     "output_type": "display_data"
    }
   ],
   "source": [
    "print(X_data['Age'].describe())\n",
    "\n",
    "plt.hist(X_data['Age'], 10)\n",
    "plt.title('Rookies per Age')\n",
    "plt.xlabel('Age')\n",
    "plt.ylabel('Rookies')\n",
    "plt.show()\n",
    "\n",
    "fig, (ax1, ax2) = plt.subplots(1, 2, figsize=(10,5))\n",
    "ax1.hist(as_data['Age'], 10)\n",
    "ax1.set_title('Distribution of Ages for Future Rookie All-stars')\n",
    "ax1.set_xlabel('Ages')\n",
    "ax1.set_ylabel('Number of Rookies')\n",
    "ax2.hist(nas_data['Age'], 10)\n",
    "ax2.set_title('Distribution of Ages for Non-future Rookie All-stars')\n",
    "ax2.set_xlabel('Ages')\n",
    "ax2.set_ylabel('Number of Rookies')\n",
    "plt.show()\n",
    "\n",
    "# boxplot with outliers removed\n",
    "plt.boxplot([as_data['Age'], nas_data['Age']], showfliers=False, labels=['All-stars', 'Not All-Stars'])\n",
    "plt.title('Distribution of Ages')\n",
    "plt.show()"
   ]
  },
  {
   "cell_type": "code",
   "execution_count": 21,
   "metadata": {},
   "outputs": [
    {
     "data": {
      "image/png": "[encoded data removed]",
      "text/plain": [
       "<Figure size 432x288 with 1 Axes>"
      ]
     },
     "metadata": {
      "needs_background": "light"
     },
     "output_type": "display_data"
    },
    {
     "data": {
      "image/png": "[encoded data removed]",
      "text/plain": [
       "<Figure size 432x288 with 1 Axes>"
      ]
     },
     "metadata": {
      "needs_background": "light"
     },
     "output_type": "display_data"
    }
   ],
   "source": [
    "ages = [18, 19, 20, 21, 22, 23, 24]\n",
    "age_label = np.array(['18', '19', '20', '21', '22', '23', '24', '>24'])\n",
    "\n",
    "as_age = []\n",
    "nas_age = []\n",
    "for i in range(len(ages)):\n",
    "    as_age.append(y_data[X_data.index[(X_data['Age'] == ages[i])].values][y_data == True].sum())\n",
    "    nas_age.append(len(y_data[X_data.index[(X_data['Age'] == ages[i]).values]][y_data == False]))\n",
    "\n",
    "as_age.append(y_data[X_data.index[(X_data['Age'] > 24).values]][y_data == True].sum())\n",
    "nas_age.append(len(y_data[X_data.index[(X_data['Age'] > 24).values]][y_data == False]))\n",
    "\n",
    "as_age = np.asarray(as_age)\n",
    "nas_age = np.asarray(nas_age)\n",
    "tot_age = as_age + nas_age\n",
    "pct = as_age / tot_age * 100\n",
    "\n",
    "plt.plot(age_label, pct)\n",
    "plt.ylim(0,100)\n",
    "plt.title(\"All stars per age of rookie season\")\n",
    "plt.ylabel(\"% all-stars\")\n",
    "plt.xlabel(\"Age\")\n",
    "plt.show()\n",
    "\n",
    "bar1 = plt.bar(age_label, tot_age)\n",
    "bar2 = plt.bar(age_label, as_age)\n",
    "plt.title(\"Total Rookies and All-stars by Age\")\n",
    "plt.xlabel(\"Age\")\n",
    "plt.ylabel(\"Players\")\n",
    "plt.legend([bar1, bar2], ['Total Rookies', 'Total All-stars'])\n",
    "plt.show()"
   ]
  },
  {
   "cell_type": "markdown",
   "metadata": {},
   "source": [
    "### Points"
   ]
  },
  {
   "cell_type": "code",
   "execution_count": 22,
   "metadata": {},
   "outputs": [
    {
     "name": "stdout",
     "output_type": "stream",
     "text": [
      "count    1228.000000\n",
      "mean        6.104479\n",
      "std         4.231158\n",
      "min         0.000000\n",
      "25%         3.000000\n",
      "50%         5.000000\n",
      "75%         8.200000\n",
      "max        23.500000\n",
      "Name: PTS, dtype: float64\n"
     ]
    },
    {
     "data": {
      "image/png": "[encoded data removed]",
      "text/plain": [
       "<Figure size 432x288 with 1 Axes>"
      ]
     },
     "metadata": {
      "needs_background": "light"
     },
     "output_type": "display_data"
    },
    {
     "data": {
      "image/png": "[encoded data removed]",
      "text/plain": [
       "<Figure size 720x360 with 2 Axes>"
      ]
     },
     "metadata": {
      "needs_background": "light"
     },
     "output_type": "display_data"
    },
    {
     "data": {
      "image/png": "[encoded data removed]",
      "text/plain": [
       "<Figure size 432x288 with 1 Axes>"
      ]
     },
     "metadata": {
      "needs_background": "light"
     },
     "output_type": "display_data"
    }
   ],
   "source": [
    "print(X_data['PTS'].describe())\n",
    "\n",
    "plt.hist(X_data['PTS'], 10)\n",
    "plt.title('Rookies per PPG')\n",
    "plt.xlabel('PPG')\n",
    "plt.ylabel('Rookies')\n",
    "plt.show()\n",
    "\n",
    "fig, (ax1, ax2) = plt.subplots(1, 2, figsize=(10,5))\n",
    "ax1.hist(as_data['PTS'], 10)\n",
    "ax1.set_title('Distribution of Points for Future Rookie All-stars')\n",
    "ax1.set_xlabel('Points')\n",
    "ax1.set_ylabel('Number of Rookies')\n",
    "ax2.hist(nas_data['PTS'], 10)\n",
    "ax2.set_title('Distribution of Points for Non-future Rookie All-stars')\n",
    "ax2.set_xlabel('Points')\n",
    "ax2.set_ylabel('Number of Rookies')\n",
    "plt.show()\n",
    "\n",
    "# boxplot with outliers removed\n",
    "plt.boxplot([as_data['PTS'], nas_data['PTS']], showfliers=False, labels=['All-stars', 'Not All-Stars'])\n",
    "plt.title('Distribution of Points')\n",
    "plt.show()"
   ]
  },
  {
   "cell_type": "code",
   "execution_count": 23,
   "metadata": {},
   "outputs": [
    {
     "data": {
      "image/png": "[encoded data removed]",
      "text/plain": [
       "<Figure size 432x288 with 1 Axes>"
      ]
     },
     "metadata": {
      "needs_background": "light"
     },
     "output_type": "display_data"
    },
    {
     "data": {
      "image/png": "[encoded data removed]",
      "text/plain": [
       "<Figure size 432x288 with 1 Axes>"
      ]
     },
     "metadata": {
      "needs_background": "light"
     },
     "output_type": "display_data"
    }
   ],
   "source": [
    "pts = [0, 5, 10, 15, 20, 100]\n",
    "pts_label = np.array(['0-5pts', '5-10pts', '10-15pts', '15-20pts', '>20pts'])\n",
    "\n",
    "as_pts = []\n",
    "nas_pts = []\n",
    "for i in range(len(pts)-1):\n",
    "    as_pts.append(y_data[X_data.index[(X_data['PTS'] >= pts[i]) & (X_data['PTS'] < pts[i+1])].values][y_data == True].sum())\n",
    "    nas_pts.append(len(y_data[X_data.index[(X_data['PTS'] >= pts[i]) & (X_data['PTS'] < pts[i+1])].values][y_data == False]))\n",
    "\n",
    "as_pts = np.asarray(as_pts)\n",
    "nas_pts = np.asarray(nas_pts)\n",
    "tot_pts = as_pts + nas_pts\n",
    "pct = as_pts / tot_pts * 100\n",
    "\n",
    "plt.bar(pts_label, pct)\n",
    "plt.ylim(0, 100)\n",
    "plt.title(\"% All-stars per PPG\")\n",
    "plt.ylabel(\"% all-stars\")\n",
    "plt.xlabel(\"PPG\")\n",
    "plt.show()\n",
    "\n",
    "bar1 = plt.bar(pts_label, tot_pts)\n",
    "bar2 = plt.bar(pts_label, as_pts)\n",
    "plt.title('Total Rookies and All-stars By PPG')\n",
    "plt.xlabel('PPG')\n",
    "plt.ylabel('Players')\n",
    "plt.legend([bar1, bar2], ['Total Rookies', 'Total All-stars'])\n",
    "plt.show()"
   ]
  },
  {
   "cell_type": "markdown",
   "metadata": {},
   "source": [
    "### Position"
   ]
  },
  {
   "cell_type": "code",
   "execution_count": 24,
   "metadata": {},
   "outputs": [
    {
     "data": {
      "text/plain": [
       "Index(['PF', 'PG', 'SG', 'SF', 'C'], dtype='object')"
      ]
     },
     "execution_count": 24,
     "metadata": {},
     "output_type": "execute_result"
    }
   ],
   "source": [
    "X_data['Pos'].value_counts().keys()"
   ]
  },
  {
   "cell_type": "code",
   "execution_count": 25,
   "metadata": {},
   "outputs": [
    {
     "data": {
      "image/png": "[encoded data removed]",
      "text/plain": [
       "<Figure size 432x288 with 1 Axes>"
      ]
     },
     "metadata": {
      "needs_background": "light"
     },
     "output_type": "display_data"
    },
    {
     "data": {
      "image/png": "[encoded data removed]",
      "text/plain": [
       "<Figure size 432x288 with 1 Axes>"
      ]
     },
     "metadata": {
      "needs_background": "light"
     },
     "output_type": "display_data"
    },
    {
     "data": {
      "text/plain": [
       "<matplotlib.legend.Legend at 0x1085a9890>"
      ]
     },
     "execution_count": 25,
     "metadata": {},
     "output_type": "execute_result"
    },
    {
     "data": {
      "image/png": "[encoded data removed]",
      "text/plain": [
       "<Figure size 432x288 with 1 Axes>"
      ]
     },
     "metadata": {
      "needs_background": "light"
     },
     "output_type": "display_data"
    }
   ],
   "source": [
    "pos_label = X_data['Pos'].value_counts().keys()\n",
    "plt.bar(pos_label, X_data['Pos'].value_counts().values)\n",
    "plt.title('Rookies By Position')\n",
    "plt.xlabel('Position')\n",
    "plt.ylabel('Rookies')\n",
    "plt.show()\n",
    "\n",
    "as_pos = []\n",
    "tot_pos = []\n",
    "\n",
    "for pos in X_data['Pos'].value_counts().keys():\n",
    "    as_pos.append(y_data[X_data.index[X_data['Pos'] == pos].values][y_data == True].sum())\n",
    "    tot_pos.append(len(y_data[X_data.index[X_data['Pos'] == pos].values]))\n",
    "\n",
    "as_pos = np.asarray(as_pos)\n",
    "tot_pos = np.asarray(tot_pos)\n",
    "\n",
    "pct_pos = as_pos / tot_pos * 100\n",
    "\n",
    "plt.bar(pos_label, pct_pos)\n",
    "plt.ylim(0,100)\n",
    "plt.title('% All-stars by Position')\n",
    "plt.xlabel('Positions')\n",
    "plt.ylabel('% All-star')\n",
    "plt.show()\n",
    "\n",
    "bar1 = plt.bar(pos_label, tot_pos)\n",
    "bar2 = plt.bar(pos_label, as_pos)\n",
    "plt.title('Total Rookies and All-stars by Position')\n",
    "plt.xlabel('Positions')\n",
    "plt.ylabel('Total Rookies')\n",
    "plt.legend([bar1, bar2], ['Total Rookies', 'Total All-stars'])"
   ]
  },
  {
   "cell_type": "markdown",
   "metadata": {},
   "source": [
    "### Games Started"
   ]
  },
  {
   "cell_type": "code",
   "execution_count": 26,
   "metadata": {},
   "outputs": [
    {
     "data": {
      "image/png": "[encoded data removed]",
      "text/plain": [
       "<Figure size 432x288 with 1 Axes>"
      ]
     },
     "metadata": {
      "needs_background": "light"
     },
     "output_type": "display_data"
    },
    {
     "data": {
      "image/png": "[encoded data removed]",
      "text/plain": [
       "<Figure size 720x360 with 2 Axes>"
      ]
     },
     "metadata": {
      "needs_background": "light"
     },
     "output_type": "display_data"
    },
    {
     "data": {
      "image/png": "[encoded data removed]",
      "text/plain": [
       "<Figure size 432x288 with 1 Axes>"
      ]
     },
     "metadata": {
      "needs_background": "light"
     },
     "output_type": "display_data"
    }
   ],
   "source": [
    "plt.hist(X_data['GS'], 10)\n",
    "plt.title('Rookies per GS')\n",
    "plt.xlabel('GS')\n",
    "plt.ylabel('Rookies')\n",
    "plt.show()\n",
    "\n",
    "fig, (ax1, ax2) = plt.subplots(1, 2, figsize=(10,5))\n",
    "ax1.hist(as_data['GS'], 10)\n",
    "ax1.set_title('Distribution of GS for Future Rookie All-stars')\n",
    "ax1.set_xlabel('GS')\n",
    "ax1.set_ylabel('Number of Rookies')\n",
    "ax2.hist(nas_data['GS'], 10)\n",
    "ax2.set_title('Distribution of GS for Non-future Rookie All-stars')\n",
    "ax2.set_xlabel('GS')\n",
    "ax2.set_ylabel('Number of Rookies')\n",
    "plt.show()\n",
    "\n",
    "# boxplot with outliers removed\n",
    "plt.boxplot([as_data['GS'], nas_data['GS']], showfliers=False, labels=['All-stars', 'Not All-Stars'])\n",
    "plt.title('Distribution of GS')\n",
    "plt.show()"
   ]
  },
  {
   "cell_type": "code",
   "execution_count": 27,
   "metadata": {},
   "outputs": [
    {
     "data": {
      "image/png": "[encoded data removed]",
      "text/plain": [
       "<Figure size 432x288 with 1 Axes>"
      ]
     },
     "metadata": {
      "needs_background": "light"
     },
     "output_type": "display_data"
    },
    {
     "data": {
      "image/png": "[encoded data removed]",
      "text/plain": [
       "<Figure size 432x288 with 1 Axes>"
      ]
     },
     "metadata": {
      "needs_background": "light"
     },
     "output_type": "display_data"
    }
   ],
   "source": [
    "gs = [0, 20, 40, 60, 100]\n",
    "gs_label = ['<20', '<40', '<60', '>60']\n",
    "\n",
    "as_gs = []\n",
    "tot_gs = []\n",
    "for i in range(len(gs)-1):\n",
    "    as_gs.append(y_data[X_data.index[(X_data['GS'] >= gs[i]) & (X_data['GS'] <  gs[i + 1])].values][y_data == True].sum())\n",
    "    tot_gs.append(len(y_data[X_data.index[(X_data['GS'] >= gs[i]) & (X_data['GS'] <  gs[i + 1])].values]))\n",
    "\n",
    "as_gs = np.asarray(as_gs)\n",
    "tot_gs = np.asarray(tot_gs)\n",
    "\n",
    "pct_gs = as_gs / tot_gs * 100\n",
    "\n",
    "plt.bar(gs_label, pct_gs)\n",
    "plt.ylim(0,100)\n",
    "plt.title('% All-stars by Games Started')\n",
    "plt.xlabel('Games Started')\n",
    "plt.ylabel('Number of Rookies')\n",
    "plt.show()\n",
    "\n",
    "bar1 = plt.bar(gs_label, tot_gs)\n",
    "bar2 = plt.bar(gs_label, as_gs)\n",
    "plt.title(\"Total Rookies and All-Stars by Games Started\")\n",
    "plt.xlabel('Games Started')\n",
    "plt.ylabel(\"Total Rookies\")\n",
    "plt.legend([bar1, bar2], ['Total Rookies', 'Total All-stars'])\n",
    "plt.show()"
   ]
  },
  {
   "cell_type": "code",
   "execution_count": 28,
   "metadata": {},
   "outputs": [
    {
     "data": {
      "image/png": "[encoded data removed]",
      "text/plain": [
       "<Figure size 432x288 with 1 Axes>"
      ]
     },
     "metadata": {
      "needs_background": "light"
     },
     "output_type": "display_data"
    },
    {
     "data": {
      "image/png": "[encoded data removed]",
      "text/plain": [
       "<Figure size 432x288 with 1 Axes>"
      ]
     },
     "metadata": {
      "needs_background": "light"
     },
     "output_type": "display_data"
    },
    {
     "data": {
      "image/png": "[encoded data removed]",
      "text/plain": [
       "<Figure size 432x288 with 1 Axes>"
      ]
     },
     "metadata": {
      "needs_background": "light"
     },
     "output_type": "display_data"
    }
   ],
   "source": [
    "plt.hist(X_data['BLK'])\n",
    "plt.show()\n",
    "\n",
    "blk = [0, 1, 2, 10]\n",
    "blk_label = ['>0', '>1', '>2']\n",
    "as_blk = []\n",
    "tot_blk = []\n",
    "for i in range(len(blk)-1):\n",
    "    as_blk.append(y_data[X_data.index[(X_data['BLK'] >= blk[i]) & (X_data['BLK'] <  blk[i + 1])].values][y_data == True].sum())\n",
    "    tot_blk.append(len(y_data[X_data.index[(X_data['BLK'] >= blk[i]) & (X_data['BLK'] <  blk[i + 1])].values]))\n",
    "\n",
    "as_blk = np.asarray(as_blk)\n",
    "tot_blk = np.asarray(tot_blk)\n",
    "\n",
    "pct_blk = as_blk / tot_blk * 100\n",
    "\n",
    "plt.bar(blk_label, pct_blk)\n",
    "plt.ylim(0,100)\n",
    "plt.title('% All-stars by Blocks Made')\n",
    "plt.xlabel('Blocks')\n",
    "plt.ylabel('Number of Rookies')\n",
    "plt.show()\n",
    "\n",
    "bar1 = plt.bar(blk_label, tot_blk)\n",
    "bar2 = plt.bar(blk_label, as_blk)\n",
    "plt.title(\"Total Rookies and All-Stars by Blocks\")\n",
    "plt.xlabel('Total Blocks')\n",
    "plt.ylabel(\"Total Rookies\")\n",
    "plt.legend([bar1, bar2], ['Total Rookies', 'Total All-stars'])\n",
    "plt.show()"
   ]
  },
  {
   "cell_type": "markdown",
   "metadata": {},
   "source": [
    "### Comparing Distributions Between Future AS and Non-Future AS"
   ]
  },
  {
   "cell_type": "code",
   "execution_count": 29,
   "metadata": {},
   "outputs": [
    {
     "data": {
      "text/plain": [
       "Index(['Age', 'Pos', 'G', 'GS', 'MP', 'FG', 'FGA', '3P', '3PA', '2P', '2PA',\n",
       "       'eFG%', 'FT', 'FTA', 'TRB', 'AST', 'STL', 'BLK', 'TOV', 'PTS', 'RBD'],\n",
       "      dtype='object')"
      ]
     },
     "execution_count": 29,
     "metadata": {},
     "output_type": "execute_result"
    }
   ],
   "source": [
    "X_data.columns"
   ]
  },
  {
   "cell_type": "code",
   "execution_count": null,
   "metadata": {},
   "outputs": [],
   "source": []
  },
  {
   "cell_type": "markdown",
   "metadata": {},
   "source": [
    "#### Assists"
   ]
  },
  {
   "cell_type": "code",
   "execution_count": 30,
   "metadata": {},
   "outputs": [
    {
     "data": {
      "image/png": "[encoded data removed]",
      "text/plain": [
       "<Figure size 720x360 with 2 Axes>"
      ]
     },
     "metadata": {
      "needs_background": "light"
     },
     "output_type": "display_data"
    },
    {
     "data": {
      "image/png": "[encoded data removed]",
      "text/plain": [
       "<Figure size 432x288 with 1 Axes>"
      ]
     },
     "metadata": {
      "needs_background": "light"
     },
     "output_type": "display_data"
    }
   ],
   "source": [
    "fig, (ax1, ax2) = plt.subplots(1, 2, figsize=(10,5))\n",
    "ax1.hist(as_data['AST'], 10)\n",
    "ax1.set_title('Distribution of Assists for Future Rookie All-stars')\n",
    "ax1.set_xlabel('Assists')\n",
    "ax1.set_ylabel('Number of Rookies')\n",
    "ax2.hist(nas_data['AST'], 10)\n",
    "ax2.set_title('Distribution of Assists for Non-future Rookie All-stars')\n",
    "ax2.set_xlabel('Assists')\n",
    "ax2.set_ylabel('Number of Rookies')\n",
    "plt.show()\n",
    "\n",
    "# boxplot with outliers removed\n",
    "plt.boxplot([as_data['AST'], nas_data['AST']], showfliers=False, labels=['All-stars', 'Not All-Stars'])\n",
    "plt.title('Distribution of Assists')\n",
    "plt.show()"
   ]
  },
  {
   "cell_type": "code",
   "execution_count": 31,
   "metadata": {},
   "outputs": [
    {
     "data": {
      "image/png": "[encoded data removed]",
      "text/plain": [
       "<Figure size 720x360 with 2 Axes>"
      ]
     },
     "metadata": {
      "needs_background": "light"
     },
     "output_type": "display_data"
    },
    {
     "data": {
      "image/png": "[encoded data removed]",
      "text/plain": [
       "<Figure size 432x288 with 1 Axes>"
      ]
     },
     "metadata": {
      "needs_background": "light"
     },
     "output_type": "display_data"
    }
   ],
   "source": [
    "fig, (ax1, ax2) = plt.subplots(1, 2, figsize=(10,5))\n",
    "ax1.hist(as_data['RBD'], 10)\n",
    "ax1.set_title('Distribution of Rebounds for Future Rookie All-stars')\n",
    "ax1.set_xlabel('Rebounds')\n",
    "ax1.set_ylabel('Number of Rookies')\n",
    "ax2.hist(nas_data['RBD'], 10)\n",
    "ax2.set_title('Distribution of Rebounds for Non-future Rookie All-stars')\n",
    "ax2.set_xlabel('Rebounds')\n",
    "ax2.set_ylabel('Number of Rookies')\n",
    "plt.show()\n",
    "\n",
    "# boxplot with outliers removed\n",
    "plt.boxplot([as_data['RBD'], nas_data['RBD']], showfliers=False, labels=['All-stars', 'Not All-Stars'])\n",
    "plt.title('Distribution of Rebounds')\n",
    "plt.show()"
   ]
  },
  {
   "cell_type": "code",
   "execution_count": 32,
   "metadata": {},
   "outputs": [
    {
     "data": {
      "image/png": "[encoded data removed]",
      "text/plain": [
       "<Figure size 720x360 with 2 Axes>"
      ]
     },
     "metadata": {
      "needs_background": "light"
     },
     "output_type": "display_data"
    },
    {
     "data": {
      "image/png": "[encoded data removed]",
      "text/plain": [
       "<Figure size 432x288 with 1 Axes>"
      ]
     },
     "metadata": {
      "needs_background": "light"
     },
     "output_type": "display_data"
    }
   ],
   "source": [
    "fig, (ax1, ax2) = plt.subplots(1, 2, figsize=(10,5))\n",
    "ax1.hist(as_data['eFG%'], 10)\n",
    "ax1.set_title('Distribution of eFG% for Future Rookie All-stars')\n",
    "ax1.set_xlabel('eFG%')\n",
    "ax1.set_ylabel('Number of Rookies')\n",
    "ax2.hist(nas_data['eFG%'], 10)\n",
    "ax2.set_title('Distribution of eFG% for Non-future Rookie All-stars')\n",
    "ax2.set_xlabel('eFG%')\n",
    "ax2.set_ylabel('Number of Rookies')\n",
    "plt.show()\n",
    "\n",
    "# boxplot with outliers removed\n",
    "plt.boxplot([as_data['eFG%'], nas_data['eFG%']], showfliers=False, labels=['All-stars', 'Not All-Stars'])\n",
    "plt.title('Distribution of eFG%')\n",
    "plt.show()"
   ]
  },
  {
   "cell_type": "code",
   "execution_count": 33,
   "metadata": {},
   "outputs": [
    {
     "data": {
      "image/png": "[encoded data removed]",
      "text/plain": [
       "<Figure size 720x360 with 2 Axes>"
      ]
     },
     "metadata": {
      "needs_background": "light"
     },
     "output_type": "display_data"
    },
    {
     "data": {
      "image/png": "[encoded data removed]",
      "text/plain": [
       "<Figure size 432x288 with 1 Axes>"
      ]
     },
     "metadata": {
      "needs_background": "light"
     },
     "output_type": "display_data"
    }
   ],
   "source": [
    "fig, (ax1, ax2) = plt.subplots(1, 2, figsize=(10,5))\n",
    "ax1.hist(as_data['BLK'], 10)\n",
    "ax1.set_title('Distribution of Blocks for Future Rookie All-stars')\n",
    "ax1.set_xlabel('BLK')\n",
    "ax1.set_ylabel('Number of Rookies')\n",
    "ax2.hist(nas_data['BLK'], 10)\n",
    "ax2.set_title('Distribution of Blocks for Non-future Rookie All-stars')\n",
    "ax2.set_xlabel('BLK%')\n",
    "ax2.set_ylabel('Number of Rookies')\n",
    "plt.show()\n",
    "\n",
    "# boxplot with outliers removed\n",
    "plt.boxplot([as_data['BLK'], nas_data['BLK']], showfliers=False, labels=['All-stars', 'Not All-Stars'])\n",
    "plt.title('Distribution of Blocks')\n",
    "plt.show()"
   ]
  },
  {
   "cell_type": "code",
   "execution_count": 34,
   "metadata": {},
   "outputs": [
    {
     "name": "stdout",
     "output_type": "stream",
     "text": [
      "<class 'pandas.core.frame.DataFrame'>\n",
      "Int64Index: 1228 entries, 0 to 1236\n",
      "Data columns (total 21 columns):\n",
      " #   Column  Non-Null Count  Dtype  \n",
      "---  ------  --------------  -----  \n",
      " 0   Age     1228 non-null   int64  \n",
      " 1   Pos     1228 non-null   object \n",
      " 2   G       1228 non-null   float64\n",
      " 3   GS      1228 non-null   float64\n",
      " 4   MP      1228 non-null   float64\n",
      " 5   FG      1228 non-null   float64\n",
      " 6   FGA     1228 non-null   float64\n",
      " 7   3P      1228 non-null   float64\n",
      " 8   3PA     1228 non-null   float64\n",
      " 9   2P      1228 non-null   float64\n",
      " 10  2PA     1228 non-null   float64\n",
      " 11  eFG%    1228 non-null   float64\n",
      " 12  FT      1228 non-null   float64\n",
      " 13  FTA     1228 non-null   float64\n",
      " 14  TRB     1228 non-null   float64\n",
      " 15  AST     1228 non-null   float64\n",
      " 16  STL     1228 non-null   float64\n",
      " 17  BLK     1228 non-null   float64\n",
      " 18  TOV     1228 non-null   float64\n",
      " 19  PTS     1228 non-null   float64\n",
      " 20  RBD     1228 non-null   float64\n",
      "dtypes: float64(19), int64(1), object(1)\n",
      "memory usage: 251.1+ KB\n"
     ]
    }
   ],
   "source": [
    "X_data.info()"
   ]
  },
  {
   "cell_type": "code",
   "execution_count": 35,
   "metadata": {},
   "outputs": [
    {
     "data": {
      "text/html": [
       "<div>\n",
       "<style scoped>\n",
       "    .dataframe tbody tr th:only-of-type {\n",
       "        vertical-align: middle;\n",
       "    }\n",
       "\n",
       "    .dataframe tbody tr th {\n",
       "        vertical-align: top;\n",
       "    }\n",
       "\n",
       "    .dataframe thead th {\n",
       "        text-align: right;\n",
       "    }\n",
       "</style>\n",
       "<table border=\"1\" class=\"dataframe\">\n",
       "  <thead>\n",
       "    <tr style=\"text-align: right;\">\n",
       "      <th></th>\n",
       "      <th>Age</th>\n",
       "      <th>Pos</th>\n",
       "      <th>G</th>\n",
       "      <th>GS</th>\n",
       "      <th>MP</th>\n",
       "      <th>FG</th>\n",
       "      <th>FGA</th>\n",
       "      <th>3P</th>\n",
       "      <th>3PA</th>\n",
       "      <th>2P</th>\n",
       "      <th>...</th>\n",
       "      <th>eFG%</th>\n",
       "      <th>FT</th>\n",
       "      <th>FTA</th>\n",
       "      <th>TRB</th>\n",
       "      <th>AST</th>\n",
       "      <th>STL</th>\n",
       "      <th>BLK</th>\n",
       "      <th>TOV</th>\n",
       "      <th>PTS</th>\n",
       "      <th>RBD</th>\n",
       "    </tr>\n",
       "  </thead>\n",
       "  <tbody>\n",
       "    <tr>\n",
       "      <th>0</th>\n",
       "      <td>22</td>\n",
       "      <td>PF</td>\n",
       "      <td>43.0</td>\n",
       "      <td>0.0</td>\n",
       "      <td>6.7</td>\n",
       "      <td>1.3</td>\n",
       "      <td>2.7</td>\n",
       "      <td>0.0</td>\n",
       "      <td>0.0</td>\n",
       "      <td>1.3</td>\n",
       "      <td>...</td>\n",
       "      <td>0.474</td>\n",
       "      <td>0.6</td>\n",
       "      <td>1.0</td>\n",
       "      <td>2.1</td>\n",
       "      <td>0.3</td>\n",
       "      <td>0.1</td>\n",
       "      <td>0.3</td>\n",
       "      <td>0.5</td>\n",
       "      <td>3.1</td>\n",
       "      <td>2.0</td>\n",
       "    </tr>\n",
       "    <tr>\n",
       "      <th>1</th>\n",
       "      <td>21</td>\n",
       "      <td>PG</td>\n",
       "      <td>67.0</td>\n",
       "      <td>19.0</td>\n",
       "      <td>22.5</td>\n",
       "      <td>6.2</td>\n",
       "      <td>15.1</td>\n",
       "      <td>0.4</td>\n",
       "      <td>1.5</td>\n",
       "      <td>5.9</td>\n",
       "      <td>...</td>\n",
       "      <td>0.425</td>\n",
       "      <td>1.3</td>\n",
       "      <td>1.5</td>\n",
       "      <td>1.8</td>\n",
       "      <td>3.1</td>\n",
       "      <td>0.8</td>\n",
       "      <td>0.1</td>\n",
       "      <td>1.6</td>\n",
       "      <td>14.1</td>\n",
       "      <td>1.8</td>\n",
       "    </tr>\n",
       "    <tr>\n",
       "      <th>2</th>\n",
       "      <td>23</td>\n",
       "      <td>SG</td>\n",
       "      <td>59.0</td>\n",
       "      <td>16.0</td>\n",
       "      <td>16.3</td>\n",
       "      <td>2.4</td>\n",
       "      <td>6.1</td>\n",
       "      <td>0.1</td>\n",
       "      <td>0.3</td>\n",
       "      <td>2.4</td>\n",
       "      <td>...</td>\n",
       "      <td>0.409</td>\n",
       "      <td>1.4</td>\n",
       "      <td>2.1</td>\n",
       "      <td>2.0</td>\n",
       "      <td>0.9</td>\n",
       "      <td>0.6</td>\n",
       "      <td>0.2</td>\n",
       "      <td>1.1</td>\n",
       "      <td>6.4</td>\n",
       "      <td>1.9</td>\n",
       "    </tr>\n",
       "    <tr>\n",
       "      <th>3</th>\n",
       "      <td>20</td>\n",
       "      <td>PF</td>\n",
       "      <td>80.0</td>\n",
       "      <td>71.0</td>\n",
       "      <td>35.0</td>\n",
       "      <td>6.9</td>\n",
       "      <td>15.2</td>\n",
       "      <td>0.1</td>\n",
       "      <td>0.3</td>\n",
       "      <td>6.8</td>\n",
       "      <td>...</td>\n",
       "      <td>0.456</td>\n",
       "      <td>4.8</td>\n",
       "      <td>6.5</td>\n",
       "      <td>6.9</td>\n",
       "      <td>2.2</td>\n",
       "      <td>1.0</td>\n",
       "      <td>1.0</td>\n",
       "      <td>2.8</td>\n",
       "      <td>18.7</td>\n",
       "      <td>6.9</td>\n",
       "    </tr>\n",
       "    <tr>\n",
       "      <th>4</th>\n",
       "      <td>23</td>\n",
       "      <td>SG</td>\n",
       "      <td>5.0</td>\n",
       "      <td>0.0</td>\n",
       "      <td>7.0</td>\n",
       "      <td>0.8</td>\n",
       "      <td>3.2</td>\n",
       "      <td>0.2</td>\n",
       "      <td>1.0</td>\n",
       "      <td>0.6</td>\n",
       "      <td>...</td>\n",
       "      <td>0.281</td>\n",
       "      <td>0.0</td>\n",
       "      <td>0.0</td>\n",
       "      <td>1.0</td>\n",
       "      <td>0.8</td>\n",
       "      <td>0.2</td>\n",
       "      <td>0.0</td>\n",
       "      <td>0.8</td>\n",
       "      <td>1.8</td>\n",
       "      <td>1.0</td>\n",
       "    </tr>\n",
       "    <tr>\n",
       "      <th>...</th>\n",
       "      <td>...</td>\n",
       "      <td>...</td>\n",
       "      <td>...</td>\n",
       "      <td>...</td>\n",
       "      <td>...</td>\n",
       "      <td>...</td>\n",
       "      <td>...</td>\n",
       "      <td>...</td>\n",
       "      <td>...</td>\n",
       "      <td>...</td>\n",
       "      <td>...</td>\n",
       "      <td>...</td>\n",
       "      <td>...</td>\n",
       "      <td>...</td>\n",
       "      <td>...</td>\n",
       "      <td>...</td>\n",
       "      <td>...</td>\n",
       "      <td>...</td>\n",
       "      <td>...</td>\n",
       "      <td>...</td>\n",
       "      <td>...</td>\n",
       "    </tr>\n",
       "    <tr>\n",
       "      <th>1232</th>\n",
       "      <td>19</td>\n",
       "      <td>PF</td>\n",
       "      <td>74.0</td>\n",
       "      <td>22.0</td>\n",
       "      <td>21.0</td>\n",
       "      <td>3.6</td>\n",
       "      <td>6.6</td>\n",
       "      <td>0.1</td>\n",
       "      <td>0.3</td>\n",
       "      <td>3.5</td>\n",
       "      <td>...</td>\n",
       "      <td>0.545</td>\n",
       "      <td>1.0</td>\n",
       "      <td>1.4</td>\n",
       "      <td>4.2</td>\n",
       "      <td>0.8</td>\n",
       "      <td>1.0</td>\n",
       "      <td>0.1</td>\n",
       "      <td>0.9</td>\n",
       "      <td>8.2</td>\n",
       "      <td>4.2</td>\n",
       "    </tr>\n",
       "    <tr>\n",
       "      <th>1233</th>\n",
       "      <td>21</td>\n",
       "      <td>C</td>\n",
       "      <td>82.0</td>\n",
       "      <td>3.0</td>\n",
       "      <td>17.3</td>\n",
       "      <td>2.1</td>\n",
       "      <td>4.9</td>\n",
       "      <td>0.0</td>\n",
       "      <td>0.0</td>\n",
       "      <td>2.1</td>\n",
       "      <td>...</td>\n",
       "      <td>0.426</td>\n",
       "      <td>1.8</td>\n",
       "      <td>2.4</td>\n",
       "      <td>4.3</td>\n",
       "      <td>1.1</td>\n",
       "      <td>0.5</td>\n",
       "      <td>0.5</td>\n",
       "      <td>1.1</td>\n",
       "      <td>6.0</td>\n",
       "      <td>4.3</td>\n",
       "    </tr>\n",
       "    <tr>\n",
       "      <th>1234</th>\n",
       "      <td>23</td>\n",
       "      <td>C</td>\n",
       "      <td>77.0</td>\n",
       "      <td>55.0</td>\n",
       "      <td>26.4</td>\n",
       "      <td>3.2</td>\n",
       "      <td>7.3</td>\n",
       "      <td>0.0</td>\n",
       "      <td>0.1</td>\n",
       "      <td>3.2</td>\n",
       "      <td>...</td>\n",
       "      <td>0.438</td>\n",
       "      <td>1.6</td>\n",
       "      <td>2.0</td>\n",
       "      <td>5.7</td>\n",
       "      <td>1.2</td>\n",
       "      <td>0.5</td>\n",
       "      <td>0.9</td>\n",
       "      <td>1.2</td>\n",
       "      <td>7.9</td>\n",
       "      <td>5.7</td>\n",
       "    </tr>\n",
       "    <tr>\n",
       "      <th>1235</th>\n",
       "      <td>23</td>\n",
       "      <td>C</td>\n",
       "      <td>5.0</td>\n",
       "      <td>0.0</td>\n",
       "      <td>7.6</td>\n",
       "      <td>1.6</td>\n",
       "      <td>3.8</td>\n",
       "      <td>0.0</td>\n",
       "      <td>0.4</td>\n",
       "      <td>1.6</td>\n",
       "      <td>...</td>\n",
       "      <td>0.421</td>\n",
       "      <td>1.6</td>\n",
       "      <td>2.0</td>\n",
       "      <td>1.4</td>\n",
       "      <td>0.0</td>\n",
       "      <td>0.0</td>\n",
       "      <td>0.0</td>\n",
       "      <td>0.2</td>\n",
       "      <td>4.8</td>\n",
       "      <td>1.4</td>\n",
       "    </tr>\n",
       "    <tr>\n",
       "      <th>1236</th>\n",
       "      <td>19</td>\n",
       "      <td>C</td>\n",
       "      <td>38.0</td>\n",
       "      <td>11.0</td>\n",
       "      <td>16.0</td>\n",
       "      <td>3.3</td>\n",
       "      <td>6.3</td>\n",
       "      <td>0.0</td>\n",
       "      <td>0.1</td>\n",
       "      <td>3.3</td>\n",
       "      <td>...</td>\n",
       "      <td>0.529</td>\n",
       "      <td>0.8</td>\n",
       "      <td>1.3</td>\n",
       "      <td>4.2</td>\n",
       "      <td>0.8</td>\n",
       "      <td>0.4</td>\n",
       "      <td>0.9</td>\n",
       "      <td>0.8</td>\n",
       "      <td>7.5</td>\n",
       "      <td>4.2</td>\n",
       "    </tr>\n",
       "  </tbody>\n",
       "</table>\n",
       "<p>1228 rows × 21 columns</p>\n",
       "</div>"
      ],
      "text/plain": [
       "      Age Pos     G    GS    MP   FG   FGA   3P  3PA   2P  ...   eFG%   FT  \\\n",
       "0      22  PF  43.0   0.0   6.7  1.3   2.7  0.0  0.0  1.3  ...  0.474  0.6   \n",
       "1      21  PG  67.0  19.0  22.5  6.2  15.1  0.4  1.5  5.9  ...  0.425  1.3   \n",
       "2      23  SG  59.0  16.0  16.3  2.4   6.1  0.1  0.3  2.4  ...  0.409  1.4   \n",
       "3      20  PF  80.0  71.0  35.0  6.9  15.2  0.1  0.3  6.8  ...  0.456  4.8   \n",
       "4      23  SG   5.0   0.0   7.0  0.8   3.2  0.2  1.0  0.6  ...  0.281  0.0   \n",
       "...   ...  ..   ...   ...   ...  ...   ...  ...  ...  ...  ...    ...  ...   \n",
       "1232   19  PF  74.0  22.0  21.0  3.6   6.6  0.1  0.3  3.5  ...  0.545  1.0   \n",
       "1233   21   C  82.0   3.0  17.3  2.1   4.9  0.0  0.0  2.1  ...  0.426  1.8   \n",
       "1234   23   C  77.0  55.0  26.4  3.2   7.3  0.0  0.1  3.2  ...  0.438  1.6   \n",
       "1235   23   C   5.0   0.0   7.6  1.6   3.8  0.0  0.4  1.6  ...  0.421  1.6   \n",
       "1236   19   C  38.0  11.0  16.0  3.3   6.3  0.0  0.1  3.3  ...  0.529  0.8   \n",
       "\n",
       "      FTA  TRB  AST  STL  BLK  TOV   PTS  RBD  \n",
       "0     1.0  2.1  0.3  0.1  0.3  0.5   3.1  2.0  \n",
       "1     1.5  1.8  3.1  0.8  0.1  1.6  14.1  1.8  \n",
       "2     2.1  2.0  0.9  0.6  0.2  1.1   6.4  1.9  \n",
       "3     6.5  6.9  2.2  1.0  1.0  2.8  18.7  6.9  \n",
       "4     0.0  1.0  0.8  0.2  0.0  0.8   1.8  1.0  \n",
       "...   ...  ...  ...  ...  ...  ...   ...  ...  \n",
       "1232  1.4  4.2  0.8  1.0  0.1  0.9   8.2  4.2  \n",
       "1233  2.4  4.3  1.1  0.5  0.5  1.1   6.0  4.3  \n",
       "1234  2.0  5.7  1.2  0.5  0.9  1.2   7.9  5.7  \n",
       "1235  2.0  1.4  0.0  0.0  0.0  0.2   4.8  1.4  \n",
       "1236  1.3  4.2  0.8  0.4  0.9  0.8   7.5  4.2  \n",
       "\n",
       "[1228 rows x 21 columns]"
      ]
     },
     "execution_count": 35,
     "metadata": {},
     "output_type": "execute_result"
    }
   ],
   "source": [
    "X_data"
   ]
  },
  {
   "cell_type": "markdown",
   "metadata": {},
   "source": [
    "## Label Encode/One Hot Encode"
   ]
  },
  {
   "cell_type": "code",
   "execution_count": 36,
   "metadata": {},
   "outputs": [],
   "source": [
    "from sklearn.preprocessing import LabelEncoder\n",
    "from sklearn.preprocessing import OneHotEncoder\n",
    "\n",
    "labelencoder = LabelEncoder()\n",
    "X_data['Pos'] = labelencoder.fit_transform(X_data['Pos'].values)\n",
    "\n",
    "ohe = OneHotEncoder(sparse=False)\n",
    "pos_enc = ohe.fit_transform(np.asarray(X_data['Pos']).reshape(-1,1))\n",
    "new_X_data = X_data.reset_index()\n",
    "new_y_data = y_data.reset_index()\n",
    "new_X_data = pd.concat([new_X_data, pd.DataFrame(pos_enc)], axis=1)\n",
    "new_X_data.drop(['Pos', 'index'], axis=1, inplace=True)\n",
    "new_y_data.drop(['index'], axis=1, inplace=True)\n",
    "new_y_data = new_y_data.astype(int)"
   ]
  },
  {
   "cell_type": "markdown",
   "metadata": {},
   "source": [
    "## Split Dataset and Model"
   ]
  },
  {
   "cell_type": "code",
   "execution_count": 37,
   "metadata": {},
   "outputs": [],
   "source": [
    "from sklearn.model_selection import train_test_split\n",
    "from sklearn.model_selection import cross_val_score\n",
    "\n",
    "X_train, X_test, y_train, y_test = train_test_split(new_X_data, new_y_data, test_size=0.2, random_state=0)"
   ]
  },
  {
   "cell_type": "code",
   "execution_count": 72,
   "metadata": {},
   "outputs": [
    {
     "name": "stdout",
     "output_type": "stream",
     "text": [
      "Training Accuracy: 0.7404143475572046\n"
     ]
    }
   ],
   "source": [
    "from sklearn.tree import DecisionTreeClassifier\n",
    "\n",
    "dt_model = DecisionTreeClassifier(min_samples_leaf=25, class_weight='balanced', random_state = 0)\n",
    "dt_scores = cross_val_score(dt_model, X_train, y_train, cv=10)\n",
    "print('Training Accuracy:', dt_scores.mean())"
   ]
  },
  {
   "cell_type": "code",
   "execution_count": 77,
   "metadata": {},
   "outputs": [
    {
     "name": "stderr",
     "output_type": "stream",
     "text": [
      "/Users/naoyanase/opt/anaconda3/lib/python3.7/site-packages/sklearn/model_selection/_validation.py:536: FitFailedWarning: Estimator fit failed. The score on this train-test partition for these parameters will be set to nan. Details: \n",
      "ValueError: min_samples_split must be an integer greater than 1 or a float in (0.0, 1.0]; got the integer 0\n",
      "\n",
      "  FitFailedWarning)\n",
      "/Users/naoyanase/opt/anaconda3/lib/python3.7/site-packages/sklearn/model_selection/_validation.py:536: FitFailedWarning: Estimator fit failed. The score on this train-test partition for these parameters will be set to nan. Details: \n",
      "ValueError: min_samples_split must be an integer greater than 1 or a float in (0.0, 1.0]; got the integer 0\n",
      "\n",
      "  FitFailedWarning)\n",
      "/Users/naoyanase/opt/anaconda3/lib/python3.7/site-packages/sklearn/model_selection/_validation.py:536: FitFailedWarning: Estimator fit failed. The score on this train-test partition for these parameters will be set to nan. Details: \n",
      "ValueError: min_samples_split must be an integer greater than 1 or a float in (0.0, 1.0]; got the integer 0\n",
      "\n",
      "  FitFailedWarning)\n",
      "/Users/naoyanase/opt/anaconda3/lib/python3.7/site-packages/sklearn/model_selection/_validation.py:536: FitFailedWarning: Estimator fit failed. The score on this train-test partition for these parameters will be set to nan. Details: \n",
      "ValueError: min_samples_split must be an integer greater than 1 or a float in (0.0, 1.0]; got the integer 0\n",
      "\n",
      "  FitFailedWarning)\n",
      "/Users/naoyanase/opt/anaconda3/lib/python3.7/site-packages/sklearn/model_selection/_validation.py:536: FitFailedWarning: Estimator fit failed. The score on this train-test partition for these parameters will be set to nan. Details: \n",
      "ValueError: min_samples_split must be an integer greater than 1 or a float in (0.0, 1.0]; got the integer 0\n",
      "\n",
      "  FitFailedWarning)\n",
      "/Users/naoyanase/opt/anaconda3/lib/python3.7/site-packages/sklearn/model_selection/_validation.py:536: FitFailedWarning: Estimator fit failed. The score on this train-test partition for these parameters will be set to nan. Details: \n",
      "ValueError: min_samples_split must be an integer greater than 1 or a float in (0.0, 1.0]; got the integer 0\n",
      "\n",
      "  FitFailedWarning)\n",
      "/Users/naoyanase/opt/anaconda3/lib/python3.7/site-packages/sklearn/model_selection/_validation.py:536: FitFailedWarning: Estimator fit failed. The score on this train-test partition for these parameters will be set to nan. Details: \n",
      "ValueError: min_samples_split must be an integer greater than 1 or a float in (0.0, 1.0]; got the integer 0\n",
      "\n",
      "  FitFailedWarning)\n",
      "/Users/naoyanase/opt/anaconda3/lib/python3.7/site-packages/sklearn/model_selection/_validation.py:536: FitFailedWarning: Estimator fit failed. The score on this train-test partition for these parameters will be set to nan. Details: \n",
      "ValueError: min_samples_split must be an integer greater than 1 or a float in (0.0, 1.0]; got the integer 0\n",
      "\n",
      "  FitFailedWarning)\n",
      "/Users/naoyanase/opt/anaconda3/lib/python3.7/site-packages/sklearn/model_selection/_validation.py:536: FitFailedWarning: Estimator fit failed. The score on this train-test partition for these parameters will be set to nan. Details: \n",
      "ValueError: min_samples_split must be an integer greater than 1 or a float in (0.0, 1.0]; got the integer 0\n",
      "\n",
      "  FitFailedWarning)\n",
      "/Users/naoyanase/opt/anaconda3/lib/python3.7/site-packages/sklearn/model_selection/_validation.py:536: FitFailedWarning: Estimator fit failed. The score on this train-test partition for these parameters will be set to nan. Details: \n",
      "ValueError: min_samples_split must be an integer greater than 1 or a float in (0.0, 1.0]; got the integer 0\n",
      "\n",
      "  FitFailedWarning)\n"
     ]
    },
    {
     "name": "stdout",
     "output_type": "stream",
     "text": [
      "[nan, 0.41636931993212867, 0.41636931993212867, 0.41636931993212867, 0.41636931993212867, 0.41636931993212867, 0.41636931993212867]\n"
     ]
    }
   ],
   "source": [
    "r = np.arange(0, 35, 5)\n",
    "clf_scores = []\n",
    "\n",
    "for i in r:\n",
    "    clf = DecisionTreeClassifier(min_samples_leaf=25, class_weight='balanced', min_samples_split=i, random_state=0)\n",
    "    clf_score = cross_val_score(clf, X_train, y_train, cv=10, scoring='f1')\n",
    "    clf_scores.append(clf_score.mean())\n",
    "    \n",
    "print(clf_scores)"
   ]
  },
  {
   "cell_type": "code",
   "execution_count": 60,
   "metadata": {},
   "outputs": [],
   "source": [
    "# overfitting -- use confusion matrix!\n"
   ]
  },
  {
   "cell_type": "code",
   "execution_count": 80,
   "metadata": {},
   "outputs": [
    {
     "name": "stdout",
     "output_type": "stream",
     "text": [
      "F1 Score: 0.3650793650793651\n"
     ]
    },
    {
     "data": {
      "image/png": "[encoded data removed]",
      "text/plain": [
       "<Figure size 432x288 with 2 Axes>"
      ]
     },
     "metadata": {
      "needs_background": "light"
     },
     "output_type": "display_data"
    }
   ],
   "source": [
    "from sklearn.metrics import plot_confusion_matrix\n",
    "from sklearn.metrics import f1_score\n",
    "\n",
    "dt_model = dt_model.fit(X_train, y_train)\n",
    "dt_pred = dt_model.predict(X_test)\n",
    "plot_confusion_matrix(dt_model, X_test, y_test)\n",
    "plt.plot()\n",
    "\n",
    "print(\"F1 Score:\", f1_score(y_test, dt_pred))"
   ]
  },
  {
   "cell_type": "code",
   "execution_count": 85,
   "metadata": {},
   "outputs": [],
   "source": [
    "from sklearn.externals.six import StringIO\n",
    "from sklearn.tree import export_graphviz\n",
    "with open(\"test3.gv\", \"w\") as f:\n",
    "    f = export_graphviz(dt_model, out_file=f, feature_names=X_train.columns, class_names=True,\n",
    "                        filled=True, rounded=True, special_characters=True)"
   ]
  },
  {
   "cell_type": "code",
   "execution_count": null,
   "metadata": {},
   "outputs": [],
   "source": []
  }
 ],
 "metadata": {
  "kernelspec": {
   "display_name": "Python 3",
   "language": "python",
   "name": "python3"
  },
  "language_info": {
   "codemirror_mode": {
    "name": "ipython",
    "version": 3
   },
   "file_extension": ".py",
   "mimetype": "text/x-python",
   "name": "python",
   "nbconvert_exporter": "python",
   "pygments_lexer": "ipython3",
   "version": "3.7.6"
  }
 },
 "nbformat": 4,
 "nbformat_minor": 4
}
